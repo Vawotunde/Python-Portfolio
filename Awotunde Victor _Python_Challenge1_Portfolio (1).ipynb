{
  "nbformat": 4,
  "nbformat_minor": 0,
  "metadata": {
    "colab": {
      "provenance": []
    },
    "kernelspec": {
      "name": "python3",
      "display_name": "Python 3"
    },
    "language_info": {
      "name": "python"
    }
  },
  "cells": [
    {
      "cell_type": "markdown",
      "source": [
        "![Dreams](https://cdn.pixabay.com/photo/2020/09/09/04/46/dream-big-work-hard-5556539_960_720.jpg)"
      ],
      "metadata": {
        "id": "D2fS0o1XnSWw"
      }
    },
    {
      "cell_type": "markdown",
      "source": [
        "### PREPARATION\n",
        "Go through the slide to revise what we did in class.\n",
        "\n",
        "### EXTRA RESOURCES\n",
        "The following links will direct you to W3Schools, where you can further expand your knowledge beyond the slides. This resource is intended to complement, rather than replace, the content covered in the slides.\n",
        "\n",
        "* For string, click [HERE](https://www.w3schools.com/python/python_strings.asp)\n",
        "\n",
        "* For list, click [HERE](https://www.w3schools.com/python/python_lists.asp)\n",
        "\n",
        "* For tuple, click [HERE](https://www.w3schools.com/python/python_tuples.asp)\n",
        "\n",
        "* For set, click [HERE](https://www.w3schools.com/python/python_sets.asp)\n",
        "\n",
        "* For dictionary, click [HERE](https://www.w3schools.com/python/python_dictionaries.asp)\n",
        "\n",
        "**NOTE:** You can always reference the links above for easier to navigate reading tutorial.\n",
        "\n",
        "**PS:** the essence of this assignment is to practice what you have learnt and also do personal research. Ensure you attempt it as that is how you can hone your programming skill.\n",
        "\n",
        "Good luck!"
      ],
      "metadata": {
        "id": "GHHIyWdOeJ5K"
      }
    },
    {
      "cell_type": "markdown",
      "source": [
        "# IMPORTANT ASSIGNMENT"
      ],
      "metadata": {
        "id": "S2bi4K7u-4i5"
      }
    },
    {
      "cell_type": "markdown",
      "source": [
        "### QUESTION 1\n",
        "\n",
        "Ask a user to enter a value between `0` and `100` which represent temperature in degree celcius. Convert this value of temperature in degree celcius to  fahrenheit. Assign the converted value to a variable called `result` and print out the value of the `result` variable.\n",
        "\n",
        "**HINT:** The formular for converting temperature value in degree celcius to fehrenheit is:\n",
        "\n",
        "$f$ = $(c \\times \\frac{9}{5}) + 32$\n",
        "\n",
        "* where f represent temperature in fehrenheit\n",
        "* where c represent temperature in celcius\n",
        "\n",
        "For example: if c(user input) = 5, then equivalent value in fehrenheit is:\n",
        "$f$ = $(5 \\times \\frac{9}{5}) + 32 = 47$\n",
        "\n",
        "To get input from a user, research about input function. Here are useful links:\n",
        "* Reading link: [input function on w3school](https://www.w3schools.com/python/ref_func_input.asp)\n",
        "* Video link: [input function on YouTube](https://www.youtube.com/watch?v=47ujebGLMKo)"
      ],
      "metadata": {
        "id": "luYgMzoATrCM"
      }
    },
    {
      "cell_type": "code",
      "source": [
        "Temperature_in_Degree_Celsius = float(input(\"Enter a temperature in Celsius (between 0 and 100): \"))"
      ],
      "metadata": {
        "id": "lCzx_wv-460s",
        "colab": {
          "base_uri": "https://localhost:8080/"
        },
        "outputId": "892205b1-23d4-443f-8781-239f8df40deb"
      },
      "execution_count": null,
      "outputs": [
        {
          "name": "stdout",
          "output_type": "stream",
          "text": [
            "Enter a temperature in Celsius (between 0 and 100): 53\n"
          ]
        }
      ]
    },
    {
      "cell_type": "code",
      "source": [
        "Temperature_in_Fahrenheit = (Temperature_in_Degree_Celsius * (9/5)) + 32\n",
        "Result = Temperature_in_Fahrenheit\n",
        "print (Result)"
      ],
      "metadata": {
        "colab": {
          "base_uri": "https://localhost:8080/"
        },
        "id": "qvREyKnQ8R2M",
        "outputId": "47fea697-f87b-4758-dc71-de31f70addb5"
      },
      "execution_count": null,
      "outputs": [
        {
          "output_type": "stream",
          "name": "stdout",
          "text": [
            "127.4\n"
          ]
        }
      ]
    },
    {
      "cell_type": "markdown",
      "source": [
        "### QUESTION 2\n",
        "\n",
        "Given a list of numbers: `lst=[1,6,1,10,7,100,0]`, print out two new variable (*name them whatever you want*) that reference the list above in:\n",
        "1. Ascending order and  \n",
        "2. descending order respectively.\n",
        "\n",
        "**Hint:** python list has the `sort` method that can be used sort a list. Run this code, `help(list)`, to read more on how to use the `sort` method to order a list in ascending and descening.\n",
        "\n",
        "You can also learn about sort through [w3schools](https://www.w3schools.com/python/ref_list_sort.asp)"
      ],
      "metadata": {
        "id": "VjvM54SsWZWe"
      }
    },
    {
      "cell_type": "code",
      "source": [
        "lst=[1,6,1,10,7,100,0]\n",
        "Ascending = sorted(lst)\n",
        "Descending = sorted(lst, reverse=True)\n",
        "print (\"Ascending Order:\", Ascending)\n",
        "print (\"Descending Order:\", Descending)"
      ],
      "metadata": {
        "id": "rWNrs9ElWXvK",
        "colab": {
          "base_uri": "https://localhost:8080/"
        },
        "outputId": "5163677b-9739-42ca-ca48-0b0fbb36998e"
      },
      "execution_count": null,
      "outputs": [
        {
          "output_type": "stream",
          "name": "stdout",
          "text": [
            "Ascending Order: [0, 1, 1, 6, 7, 10, 100]\n",
            "Descending Order: [100, 10, 7, 6, 1, 1, 0]\n"
          ]
        }
      ]
    },
    {
      "cell_type": "markdown",
      "source": [
        "### QUESTION 3\n",
        "Given the formular:\n",
        "$V = \\frac{4}{3} * \\pi * r^3$,\n",
        "calculate the volume of a sphere of radius $r=5$ and the constant $\\pi=3.142$?\n",
        "\n",
        "Save the result in a variable called `volume_of_cylinder_r5` and print out the value of the variable"
      ],
      "metadata": {
        "id": "g971zeFUWxcz"
      }
    },
    {
      "cell_type": "code",
      "source": [
        "r=5\n",
        "pi=3.142\n",
        "V = (4/3) * pi * r**3\n",
        "volume_of_cylinder_r5 = V\n",
        "print (volume_of_cylinder_r5)"
      ],
      "metadata": {
        "id": "qX4j1E92WuYC",
        "colab": {
          "base_uri": "https://localhost:8080/"
        },
        "outputId": "f319a0ad-36b4-4c8f-a99a-fe59e6714366"
      },
      "execution_count": null,
      "outputs": [
        {
          "output_type": "stream",
          "name": "stdout",
          "text": [
            "523.6666666666666\n"
          ]
        }
      ]
    },
    {
      "cell_type": "markdown",
      "source": [
        "### QUESTION 4\n",
        "\n",
        "Suppose the cover price of a book is `$24.95`, but bookstores get a `40%` discount. Shipping costs `$3` for the first copy and `75 cents` for each additional copy. What is the total wholesale cost for `60` copies?"
      ],
      "metadata": {
        "id": "EMsf18HYX1cv"
      }
    },
    {
      "cell_type": "code",
      "source": [
        "Wholesale_Cost = (24.95 * 0.6 * 60) + (3) + (0.75 * 59)\n",
        "print (Wholesale_Cost)"
      ],
      "metadata": {
        "id": "aOa8HuP_XaRX",
        "colab": {
          "base_uri": "https://localhost:8080/"
        },
        "outputId": "c18dbb17-6130-4a75-aa67-34511c04ca10"
      },
      "execution_count": null,
      "outputs": [
        {
          "output_type": "stream",
          "name": "stdout",
          "text": [
            "945.4499999999999\n"
          ]
        }
      ]
    },
    {
      "cell_type": "markdown",
      "source": [
        "### QUESTION 5\n",
        "\n",
        "Ask a user to enter a word(words) of odd length and assign the user entering to a variable named `entry`. Print the first, middle and last character from the `entry` value.\n",
        "\n",
        "e.g if `entry = \"James\"`, the printed value will be `Jms`\n",
        "\n",
        "**Hing:** use the floor division to get the index of the middle value (`len(entry)//2`). Use what you learnt in class regarding index to get the first and last characters. Finally, concatenate the result together.\n",
        "\n",
        "Check this blog for explanation: [Get middle index of a string](https://discuss.codecademy.com/t/how-can-i-get-the-index-of-the-middle-element/377349)"
      ],
      "metadata": {
        "id": "bOEUiPBpae2r"
      }
    },
    {
      "cell_type": "code",
      "source": [
        "while True:\n",
        "    Entry = input(\"Enter a word of odd length: \")\n",
        "    if len(Entry) % 2 == 1:\n",
        "        break\n",
        "    print(\"The length of the word must be odd. Try again.\")\n",
        "\n",
        "print(f\"You entered: {Entry}\")"
      ],
      "metadata": {
        "colab": {
          "base_uri": "https://localhost:8080/"
        },
        "id": "hPa_MILulF3U",
        "outputId": "2ee489fe-122a-4083-de96-25ff060c1423"
      },
      "execution_count": null,
      "outputs": [
        {
          "output_type": "stream",
          "name": "stdout",
          "text": [
            "Enter a word of odd length: Victor\n",
            "The length of the word must be odd. Try again.\n",
            "Enter a word of odd length: Shola\n",
            "You entered: Shola\n"
          ]
        }
      ]
    },
    {
      "cell_type": "code",
      "source": [
        "First_Middle_Last_Character = Entry[0] + Entry[len(Entry)//2] + Entry[-1]\n",
        "print (First_Middle_Last_Character)"
      ],
      "metadata": {
        "colab": {
          "base_uri": "https://localhost:8080/"
        },
        "id": "JRqvSIOsloGn",
        "outputId": "addf6d2d-6410-4ad1-8da6-a4d7ffaecff4"
      },
      "execution_count": null,
      "outputs": [
        {
          "output_type": "stream",
          "name": "stdout",
          "text": [
            "Soa\n"
          ]
        }
      ]
    },
    {
      "cell_type": "markdown",
      "source": [
        "### QUESTION 6\n",
        "\n",
        "Ask a user to enter a name of odd length and assign the user entering to a variable named `name`.\n",
        "\n",
        "Print a string made of the middle three characters of a given string.\n",
        "\n",
        "e.g if `name = \"JaSonAy\"`, printed result will be `Son`\n",
        "\n",
        "**Hint:** Use the approach above to get the middle index and assign the middle index to a variable. Now slice the string from the index on the left of the middle index upto the right index of the middle index."
      ],
      "metadata": {
        "id": "NhJ5JTYzcFLB"
      }
    },
    {
      "cell_type": "code",
      "source": [
        "while True:\n",
        "  name = input (\"Please enter a word of odd length: \")\n",
        "  if len(name) % 2 == 1:\n",
        "    break\n",
        "  print (\"The length of the word must be odd. Try again.\")\n",
        "\n",
        "print (f\"You entered: {name}\")\n"
      ],
      "metadata": {
        "id": "5YQ5n6zmbpq5",
        "colab": {
          "base_uri": "https://localhost:8080/"
        },
        "outputId": "6ca05114-ab44-4c38-ad69-445cb4425b13"
      },
      "execution_count": null,
      "outputs": [
        {
          "output_type": "stream",
          "name": "stdout",
          "text": [
            "Please enter a word of odd length: Ashade\n",
            "The length of the word must be odd. Try again.\n",
            "Please enter a word of odd length: Ashante\n",
            "You entered: Ashante\n"
          ]
        }
      ]
    },
    {
      "cell_type": "code",
      "source": [
        "Middle_3_Characters = name[len(name)//2-1:len(name)//2+2]\n",
        "print (Middle_3_Characters)"
      ],
      "metadata": {
        "colab": {
          "base_uri": "https://localhost:8080/"
        },
        "id": "XAr9pbkjoHya",
        "outputId": "276f52e7-dc89-43c4-83b1-db1b50c49f78"
      },
      "execution_count": null,
      "outputs": [
        {
          "output_type": "stream",
          "name": "stdout",
          "text": [
            "han\n"
          ]
        }
      ]
    },
    {
      "cell_type": "markdown",
      "source": [
        "### QUESTION 7\n",
        "\n",
        "Given two strings, `word1` and `word2`, write a program to return a new string made of `word1` and `word2` first, middle, and last characters.\n",
        "\n",
        "Initialise the two variables as: `word1 = \"America\"` and `word2 = \"Japan\"`\n",
        "\n",
        "Your answer is expected to be 'AJrpan'"
      ],
      "metadata": {
        "id": "3P7_qrYIdXkF"
      }
    },
    {
      "cell_type": "code",
      "source": [
        "word1 = \"America\"\n",
        "word2 = \"Japan\"\n",
        "\n",
        "first_char = word1[0] + word2[0]\n",
        "middle_char = word1[len(word1)//2] + word2[len(word2)//2]\n",
        "last_char = word1[-1] + word2[-1]\n",
        "\n",
        "new_string = first_char + middle_char + last_char\n",
        "\n",
        "print(new_string)"
      ],
      "metadata": {
        "id": "rdlGKf95c_00",
        "colab": {
          "base_uri": "https://localhost:8080/"
        },
        "outputId": "122dde91-2be4-42e9-f54d-aed859200f6f"
      },
      "execution_count": null,
      "outputs": [
        {
          "output_type": "stream",
          "name": "stdout",
          "text": [
            "AJrpan\n"
          ]
        }
      ]
    },
    {
      "cell_type": "markdown",
      "source": [
        "### QUESTION 8\n",
        "\n",
        "Given a variable and its value as `word = \"PyNaTive\"`. This word contains a combination of lower and upper case letters.\n",
        "\n",
        "Write a program to arrange the characters of a string so that all lowercase letters should come first.\n",
        "\n",
        "**Hint:** you can iterate through the characters using `for` loop and checl if each character is upper case or not. You can create an empty string and concatenate those that lowercase character to the empty string first followed by those that are uppercase."
      ],
      "metadata": {
        "id": "2-78Ro5ni58E"
      }
    },
    {
      "cell_type": "code",
      "source": [
        "word = \"PyNaTive\"\n",
        "\n",
        "lowercase_chars = \"\"\n",
        "uppercase_chars = \"\"\n",
        "\n",
        "for char in word:\n",
        "    if char.islower():\n",
        "        lowercase_chars += char\n",
        "    else:\n",
        "        uppercase_chars += char\n",
        "\n",
        "arranged_word = lowercase_chars + uppercase_chars\n",
        "\n",
        "print(arranged_word)"
      ],
      "metadata": {
        "id": "XV_BOE35i-qi",
        "colab": {
          "base_uri": "https://localhost:8080/"
        },
        "outputId": "179ffc53-c200-4add-d2f4-708e2c394ac7"
      },
      "execution_count": null,
      "outputs": [
        {
          "output_type": "stream",
          "name": "stdout",
          "text": [
            "yaivePNT\n"
          ]
        }
      ]
    },
    {
      "cell_type": "markdown",
      "source": [
        "### QUESTION 9\n",
        "\n",
        "Count all letters, digits, and special symbols from a given string:\n",
        "\n",
        "`characters = \"P@#yn26at^&i5ve\"`.\n",
        "\n",
        "**Hint:** remember that every characters in a string is a string object even it is a number. For example, the the first number in the string above is something like this, `'2'` (string) and not something like this, `2` (integer) without the quotation. `str` (string) object has a method that can check if a member of a string is a number (e.g '2'). Call `help` on `str` to find the string method that will help you with this challenge.\n",
        "\n",
        "All you need is to 3 different variables and assign zero to them to keep track of the count of numbers, special characters and alphabet. Example:\n",
        "```{py}\n",
        "number_count = 0\n",
        "alphabet_count = 0\n",
        "symbol_count = 0\n",
        "```\n",
        "Now iterate throgh the string. if it is a number, increment number_count by 1, else if it is symbol, increment symbol_count by 1 else if it is an alphabet, increment alphabet_count by 1.\n",
        "\n",
        "There is a python method to check if a number if a character is a number. To check for symbols, create a list of all special characters and check if that character is there."
      ],
      "metadata": {
        "id": "ZU6IInXneo22"
      }
    },
    {
      "cell_type": "code",
      "source": [
        "characters = \"P@#yn26at^&i5ve\"\n",
        "\n",
        "number_count = 0\n",
        "alphabet_count = 0\n",
        "symbol_count = 0\n",
        "\n",
        "# Define a string of special characters\n",
        "special_characters = \"!@#$%^&*()_+-=[]{}|;:'\\\",.<>?/`~\"\n",
        "\n",
        "# Iterate through each character in the string\n",
        "for char in characters:\n",
        "    if char.isdigit():\n",
        "        number_count += 1  # Count digits\n",
        "    elif char.isalpha():\n",
        "        alphabet_count += 1  # Count alphabet characters\n",
        "    elif char in special_characters:\n",
        "        symbol_count += 1  # Count special symbols\n",
        "\n",
        "# Output the counts\n",
        "print(\"Letters:\", alphabet_count)\n",
        "print(\"Digits:\", number_count)\n",
        "print(\"Special Characters:\", symbol_count)"
      ],
      "metadata": {
        "id": "_SugRxMVe3ib",
        "colab": {
          "base_uri": "https://localhost:8080/"
        },
        "outputId": "6d47dfa6-d22f-464d-cbc8-2fe0958bfde5"
      },
      "execution_count": null,
      "outputs": [
        {
          "output_type": "stream",
          "name": "stdout",
          "text": [
            "Letters: 8\n",
            "Digits: 3\n",
            "Special Characters: 4\n"
          ]
        }
      ]
    },
    {
      "cell_type": "markdown",
      "source": [
        "### QUESTION 10\n",
        "\n",
        "Write a program to check if two strings are balanced. For example, two strings are balanced if all the characters in the first string are present in the second string. The character’s position doesn’t matter.\n",
        "\n",
        "Initialise the two strings as: `string1 = \"Yn\"` and `string2 = \"PYnative\"`"
      ],
      "metadata": {
        "id": "9uoN9MJWgDeu"
      }
    },
    {
      "cell_type": "code",
      "source": [
        "# Initialize the two strings\n",
        "string1 = \"Yn\"\n",
        "string2 = \"PYnative\"\n",
        "\n",
        "# Check if all characters in string1 are present in string2\n",
        "is_balanced = all(char in string2 for char in string1)\n",
        "\n",
        "# Output the result\n",
        "print(is_balanced)"
      ],
      "metadata": {
        "id": "6mBEje7Ifhf5",
        "colab": {
          "base_uri": "https://localhost:8080/"
        },
        "outputId": "e6e52098-ac5f-411b-fc0a-1fbf2031df77"
      },
      "execution_count": null,
      "outputs": [
        {
          "output_type": "stream",
          "name": "stdout",
          "text": [
            "True\n"
          ]
        }
      ]
    },
    {
      "cell_type": "markdown",
      "source": [
        "### QUESTION 11\n",
        "\n",
        "Write a program to find all occurrences of “USA” in a given sentence ignoring the case.\n",
        "\n",
        "Given: `sentence = \"Welcome to USA. usa awesome, isn't it?\"`. The result should be `2`.\n",
        "\n",
        "**Hint:** there is a python method that you can use to get the index of the first character you are searching for. Once you get it, use that index as start to slice string upto the next 3 characters (since USA is 3 letter word)."
      ],
      "metadata": {
        "id": "u7PwJOE5hNWP"
      }
    },
    {
      "cell_type": "code",
      "source": [
        "sentence = \"Welcome to USA. usa awesome, isn't it?\"\n",
        "word = \"usa\"\n",
        "\n",
        "count = sum(sentence[i:i+3].lower() == word for i in range(len(sentence) - 2))\n",
        "print(\"Number of occurrences:\", count)"
      ],
      "metadata": {
        "id": "Al8KEGQAgz0s",
        "colab": {
          "base_uri": "https://localhost:8080/"
        },
        "outputId": "5e5d897a-ba0b-43a7-9067-dc896c499674"
      },
      "execution_count": 2,
      "outputs": [
        {
          "output_type": "stream",
          "name": "stdout",
          "text": [
            "Number of occurrences: 2\n"
          ]
        }
      ]
    },
    {
      "cell_type": "markdown",
      "source": [
        "### QUESTION 12\n",
        "\n",
        "Given a string, write a program to return only the sum and average (in 2 decimal places) of the digits that appear in the string, ignoring all other characters.\n",
        "\n",
        "Given: `str1 = \"PYnative29@#8496\"`, the sum of the digit is `38` and the average is `6.33`.\n",
        "\n",
        "**Hint:**\n",
        "* Initialize a variable called total and assign 0 to it (`total=0`).\n",
        "* Also initialize count variable and assign 0 to it as well (`count=0`)\n",
        "* Iterate throguh the string (since it is a sequence of characters).\n",
        "* For each character, check if it is a number (there is a sting method to check if a string is a number).\n",
        "* If it is a number, sum it with the `total` variable that you initialized in step 1 and also increase the count variable by 1 to show that you are keeping track of the number of integers you have else just bypass and go to the next iteration.\n",
        "* After the iteration, you should have gotten the total sum and the number of integers in the string. To get the average, divide the `total` variable by `count` variable"
      ],
      "metadata": {
        "id": "5vkPWV8KijgZ"
      }
    },
    {
      "cell_type": "code",
      "source": [
        "# Initialize the given string\n",
        "str1 = \"PYnative29@#8496\"\n",
        "\n",
        "# Initialize variables for sum and count of digits\n",
        "total = 0\n",
        "count = 0\n",
        "\n",
        "# Iterate through the string\n",
        "for char in str1:\n",
        "    if char.isdigit():  # Check if the character is a digit\n",
        "        total += int(char)  # Add the digit to the total sum\n",
        "        count += 1  # Increase the count of digits\n",
        "\n",
        "# Calculate the average, ensuring no division by zero\n",
        "average = total / count if count != 0 else 0\n",
        "\n",
        "# Format the average to 2 decimal places\n",
        "average = round(average, 2)\n",
        "\n",
        "# Output the sum and average\n",
        "print(\"Sum:\", total)\n",
        "print(\"Average:\", average)"
      ],
      "metadata": {
        "id": "wlwWXhnukJ3t",
        "colab": {
          "base_uri": "https://localhost:8080/"
        },
        "outputId": "0dcc63e9-0642-4520-f5a5-6205b9aace73"
      },
      "execution_count": null,
      "outputs": [
        {
          "output_type": "stream",
          "name": "stdout",
          "text": [
            "Sum: 38\n",
            "Average: 6.33\n"
          ]
        }
      ]
    },
    {
      "cell_type": "markdown",
      "source": [
        "### QUESTION 13\n",
        "\n",
        "Write a program to print all characters and the number of characters within the string in **question 12**.\n",
        "\n",
        "**Hint:** Just like the precious question, create a count variable and assign 0 to it (`count=0`). But this time around, the variable will be used to track the count of characters. You will iterate to check if an element of a string in each iteration is a character (any of letter a-z or A-Z). If it is, increment that count variable by 1 and also print the character.v"
      ],
      "metadata": {
        "id": "_Kw83u2Kj30s"
      }
    },
    {
      "cell_type": "code",
      "source": [
        "# Initialize the given string\n",
        "str1 = \"PYnative29@#8496\"\n",
        "\n",
        "# Initialize count variable for characters\n",
        "count = 0\n",
        "\n",
        "# Iterate through the string\n",
        "for char in str1:\n",
        "    if char.isalpha():  # Check if the character is a letter (a-z or A-Z)\n",
        "        count += 1  # Increment count for each character\n",
        "        print(f\"Character: {char}, Count: {count}\")  # Print the character and count\n",
        "\n",
        "# Output the total count of characters\n",
        "print(f\"Total number of characters: {count}\")"
      ],
      "metadata": {
        "id": "33R0a7xskKtN",
        "colab": {
          "base_uri": "https://localhost:8080/"
        },
        "outputId": "db71c837-d22b-4084-b81e-d231947db769"
      },
      "execution_count": null,
      "outputs": [
        {
          "output_type": "stream",
          "name": "stdout",
          "text": [
            "Character: P, Count: 1\n",
            "Character: Y, Count: 2\n",
            "Character: n, Count: 3\n",
            "Character: a, Count: 4\n",
            "Character: t, Count: 5\n",
            "Character: i, Count: 6\n",
            "Character: v, Count: 7\n",
            "Character: e, Count: 8\n",
            "Total number of characters: 8\n"
          ]
        }
      ]
    },
    {
      "cell_type": "markdown",
      "source": [
        "### QUESTION 14\n",
        "\n",
        "Reverse and print the output of the string you got in **question 13**.\n"
      ],
      "metadata": {
        "id": "O0nhnHhOj5z-"
      }
    },
    {
      "cell_type": "code",
      "source": [],
      "metadata": {
        "id": "XqZBV9pzl2fw"
      },
      "execution_count": null,
      "outputs": []
    },
    {
      "cell_type": "markdown",
      "source": [
        "### QUESTION 15\n",
        "\n",
        "Write a program to print the index of the first character (`B`) of the last substring `“Beauty”` in the sentence:\n",
        "\n",
        "`str1 = \"Beauty is a data scientist who knows Python. Beauty works at google.\"`\n",
        "\n",
        "**Hint:** there is a string method to get the index of the first occurence of a string."
      ],
      "metadata": {
        "id": "RQisITJCj7qI"
      }
    },
    {
      "cell_type": "code",
      "source": [
        "# Initialize the given string\n",
        "str1 = \"Beauty is a data scientist who knows Python. Beauty works at google.\"\n",
        "\n",
        "# Find the index of the first occurrence of the substring \"Beauty\"\n",
        "index = str1.rfind(\"Beauty\")\n",
        "\n",
        "# Print the index of the first character of the last occurrence of \"Beauty\"\n",
        "print(index)"
      ],
      "metadata": {
        "id": "40Lhl9rGqfg_",
        "colab": {
          "base_uri": "https://localhost:8080/"
        },
        "outputId": "30e5cef0-bad9-4470-b9a1-be10dd1f3221"
      },
      "execution_count": null,
      "outputs": [
        {
          "output_type": "stream",
          "name": "stdout",
          "text": [
            "45\n"
          ]
        }
      ]
    },
    {
      "cell_type": "markdown",
      "source": [
        "### QUESTION 16\n",
        "\n",
        "Write a program to split a given string on hyphens and display each substring. Given: `str1 = Beauty-is-a-data-scientist.`\n",
        "\n",
        "**Hint:** string has a split method. Call help on `str`."
      ],
      "metadata": {
        "id": "vSSW4Bpjj9So"
      }
    },
    {
      "cell_type": "code",
      "source": [
        "\n",
        "# Initialize the given string\n",
        "str1 = \"Beauty-is-a-data-scientist\"\n",
        "\n",
        "# Split the string on hyphens\n",
        "substrings = str1.split('-')\n",
        "\n",
        "# Display each substring\n",
        "for substring in substrings:\n",
        "    print(substring)"
      ],
      "metadata": {
        "id": "c76N_JwAhrnP",
        "colab": {
          "base_uri": "https://localhost:8080/"
        },
        "outputId": "194fc23b-eb99-4992-82fe-94c8630ac7ac"
      },
      "execution_count": null,
      "outputs": [
        {
          "output_type": "stream",
          "name": "stdout",
          "text": [
            "Beauty\n",
            "is\n",
            "a\n",
            "data\n",
            "scientist\n"
          ]
        }
      ]
    },
    {
      "cell_type": "markdown",
      "source": [
        "# BONUS QUESTION\n",
        "### FINDING THE MEDIAN INDEX OF A SEQUECE WITH EVEN SIZE IN PYTHON\n",
        "\n",
        "One thing i didn't mention was that the median index is different from the median value so for median index of a list with odd number as its size, we will have to choose the left or right index of the two middle index\n",
        "\n",
        "Check the code below for example"
      ],
      "metadata": {
        "id": "7j6P0HIkXP1o"
      }
    },
    {
      "cell_type": "code",
      "source": [
        "# Function to find the median index\n",
        "def find_median_index(sequence):\n",
        "    # Get the size of the sequence\n",
        "    size = len(sequence)\n",
        "\n",
        "    # For odd size list, the median index is the exact middle\n",
        "    if size % 2 != 0:\n",
        "        median_index = size // 2  # Integer division gives the middle index\n",
        "    else:\n",
        "        # For even size list, you can choose the left or right of the two middle elements\n",
        "        # Here, I will choose the left one (size // 2 - 1)\n",
        "        median_index = size // 2 - 1  # Left middle index for even size\n",
        "\n",
        "    return median_index\n",
        "\n",
        "# Example usage\n",
        "sequence_odd = [1, 3, 5, 7, 9]\n",
        "sequence_even = [1, 3, 5, 7, 9, 11]\n",
        "\n",
        "# Find median index\n",
        "print(\"Median index (odd-sized list):\", find_median_index(sequence_odd))  # Output: 2\n",
        "print(\"Median index (even-sized list):\", find_median_index(sequence_even))  # Output: 2"
      ],
      "metadata": {
        "colab": {
          "base_uri": "https://localhost:8080/"
        },
        "id": "iirN9b1szuNF",
        "outputId": "7540ae35-f466-4600-e1bd-97d042f7f641"
      },
      "execution_count": null,
      "outputs": [
        {
          "output_type": "stream",
          "name": "stdout",
          "text": [
            "Median index (odd-sized list): 2\n",
            "Median index (even-sized list): 2\n"
          ]
        }
      ]
    },
    {
      "cell_type": "code",
      "source": [
        "numbers = [1,2,39,4,166,7,8,93,50,12,11,23,45,67,78]\n",
        "sorted (numbers)\n",
        "n = len(numbers)\n",
        "print(n)\n",
        "numbers2= sum(numbers)\n",
        "numbers3 = (numbers2 + 1)\n",
        "# Median Index formular = [(n+1)/2]th\n",
        "median_index = (n+1)/2\n",
        "print (median_index)\n",
        "#Median Index is the eight value\n",
        "Numbers3 = sorted (numbers)\n",
        "Numbers3 [7]"
      ],
      "metadata": {
        "id": "bo_OVVfMiDeB",
        "colab": {
          "base_uri": "https://localhost:8080/"
        },
        "outputId": "4f89a958-6306-4449-c511-e4e3dbd167f8"
      },
      "execution_count": null,
      "outputs": [
        {
          "output_type": "stream",
          "name": "stdout",
          "text": [
            "15\n",
            "8.0\n"
          ]
        },
        {
          "output_type": "execute_result",
          "data": {
            "text/plain": [
              "23"
            ]
          },
          "metadata": {},
          "execution_count": 32
        }
      ]
    },
    {
      "cell_type": "markdown",
      "source": [
        "Since we have two middle values becaue the length of the string is 2, we can say we don't have middle index unless we want to use the value of `mid_index` above which is 2 or we use a value below it which 1 (i.e 2-1 which is equal to 1 for the second position) as the index value."
      ],
      "metadata": {
        "id": "TsbYn3D7aYCL"
      }
    },
    {
      "cell_type": "markdown",
      "source": [
        "# READING ASSIGNMENT - PYTHON FUNCTION\n",
        "\n",
        "Read about [**python function here**](https://www.w3schools.com/python/python_functions.asp)."
      ],
      "metadata": {
        "id": "q13bqIcB-CVP"
      }
    },
    {
      "cell_type": "code",
      "source": [
        "# Function to find the median index\n",
        "def find_median_index(sequence):\n",
        "    # Get the size of the sequence\n",
        "    size = len(sequence)\n",
        "\n",
        "    # For odd size list, the median index is the exact middle\n",
        "    if size % 2 != 0:\n",
        "        median_index = size // 2  # Integer division gives the middle index\n",
        "    else:\n",
        "        # For even size list, we have two middle indices\n",
        "        median_index_left = size // 2 - 1  # Left middle index\n",
        "        median_index_right = size // 2  # Right middle index\n",
        "        return median_index_left, median_index_right  # Return both indices for the even case\n",
        "\n",
        "    return median_index  # Return single median index for odd-sized list\n",
        "\n",
        "# Example usage\n",
        "sequence_odd = [1, 3, 5, 7, 9]\n",
        "sequence_even = [1, 3, 5, 7, 9, 11]\n",
        "\n",
        "# Find median index\n",
        "print(\"Median index (odd-sized list):\", find_median_index(sequence_odd))  # Output: 2\n",
        "print(\"Median index (even-sized list):\", find_median_index(sequence_even))  # Output: (2, 3)"
      ],
      "metadata": {
        "id": "PHzURxC7aRIM",
        "colab": {
          "base_uri": "https://localhost:8080/"
        },
        "outputId": "26bf31a0-87a4-413b-ae38-2c286cee5be5"
      },
      "execution_count": null,
      "outputs": [
        {
          "output_type": "stream",
          "name": "stdout",
          "text": [
            "Median index (odd-sized list): 2\n",
            "Median index (even-sized list): (2, 3)\n"
          ]
        }
      ]
    },
    {
      "cell_type": "code",
      "source": [],
      "metadata": {
        "id": "QgytUYOUhTKy"
      },
      "execution_count": null,
      "outputs": []
    }
  ]
}